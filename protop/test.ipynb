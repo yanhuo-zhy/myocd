{
 "cells": [
  {
   "cell_type": "code",
   "execution_count": 1,
   "metadata": {},
   "outputs": [
    {
     "name": "stderr",
     "output_type": "stream",
     "text": [
      "/root/miniconda3/envs/protop/lib/python3.8/site-packages/tqdm/auto.py:21: TqdmWarning: IProgress not found. Please update jupyter and ipywidgets. See https://ipywidgets.readthedocs.io/en/stable/user_install.html\n",
      "  from .autonotebook import tqdm as notebook_tqdm\n"
     ]
    },
    {
     "data": {
      "text/plain": [
       "torch.Size([10, 100])"
      ]
     },
     "execution_count": 1,
     "metadata": {},
     "output_type": "execute_result"
    }
   ],
   "source": [
    "import torch\n",
    "\n",
    "# 定义输入变量\n",
    "batch_size = 10\n",
    "K = 12\n",
    "num_classes = 100\n",
    "\n",
    "# 创建随机数据\n",
    "u = torch.randn(batch_size, K)\n",
    "hash_center = torch.randn(num_classes, K)\n",
    "\n",
    "# 计算余弦相似度\n",
    "cos_sim = torch.matmul(u, torch.transpose(hash_center, 0, 1))\n",
    "\n",
    "# 输出计算得到的 cos_sim 的形状\n",
    "cos_sim.shape\n"
   ]
  },
  {
   "cell_type": "code",
   "execution_count": 2,
   "metadata": {},
   "outputs": [
    {
     "data": {
      "text/plain": [
       "tensor(-1.5753)"
      ]
     },
     "execution_count": 2,
     "metadata": {},
     "output_type": "execute_result"
    }
   ],
   "source": [
    "(u[0]*hash_center[10]).sum()"
   ]
  },
  {
   "cell_type": "code",
   "execution_count": 3,
   "metadata": {},
   "outputs": [
    {
     "data": {
      "text/plain": [
       "tensor(-1.5753)"
      ]
     },
     "execution_count": 3,
     "metadata": {},
     "output_type": "execute_result"
    }
   ],
   "source": [
    "cos_sim[0][10]"
   ]
  },
  {
   "cell_type": "code",
   "execution_count": null,
   "metadata": {},
   "outputs": [],
   "source": [
    "hash_dict = centers.numpy().tolist()\n",
    "preds1 = []  # 存储每个feat对应的类别索引\n",
    "for feat in feats_hash:\n",
    "    found = False\n",
    "    # 首先检查是否已经存在相同的类别索引\n",
    "    if feat in hash_dict:\n",
    "        preds1.append(hash_dict.index(feat))  # 使用该类别的索引\n",
    "        found = True\n",
    "        \n",
    "    if not found:\n",
    "        # 如果没有找到相同的类别索引，再按距离判断\n",
    "        distances = [compute_hamming_distance_list(feat, center) for center in hash_dict]\n",
    "        min_distance = min(distances)\n",
    "        min_index = distances.index(min_distance)\n",
    "\n",
    "        if min_distance <= 1:\n",
    "            preds1.append(min_index)\n",
    "            found = True\n",
    "\n",
    "    if not found:\n",
    "        # 如果feat与所有已有类别的距离都大于1，则创建一个新的类别\n",
    "        hash_dict.append(feat)  # 直接添加整个feat，而不是仅top3_index\n",
    "        preds1.append(len(hash_dict) - 1)  # 使用新类别的索引\n",
    "preds1 = np.array(preds1)\n",
    "\n",
    "all_acc, old_acc, new_acc = split_cluster_acc_v2(y_true=targets, y_pred=preds1, mask=mask)\n",
    "logger.info(f'test len(list(set(preds1))): {len(list(set(preds1)))} len(preds): {len(preds1)}')\n",
    "logger.info(f\"case 1 all_acc: {all_acc:.3f} old_acc: {old_acc:.3f} new_acc: {new_acc:.3f}\")"
   ]
  },
  {
   "cell_type": "code",
   "execution_count": 1,
   "metadata": {},
   "outputs": [
    {
     "name": "stdout",
     "output_type": "stream",
     "text": [
      "Epoch 0: alpha = 0.0\n",
      "Epoch 1: alpha = 0.005\n",
      "Epoch 2: alpha = 0.01\n",
      "Epoch 3: alpha = 0.015\n",
      "Epoch 4: alpha = 0.02\n",
      "Epoch 5: alpha = 0.025\n",
      "Epoch 6: alpha = 0.03\n",
      "Epoch 7: alpha = 0.035\n",
      "Epoch 8: alpha = 0.04\n",
      "Epoch 9: alpha = 0.045\n",
      "Epoch 10: alpha = 0.05\n",
      "Epoch 11: alpha = 0.055\n",
      "Epoch 12: alpha = 0.06\n",
      "Epoch 13: alpha = 0.065\n",
      "Epoch 14: alpha = 0.07\n",
      "Epoch 15: alpha = 0.075\n",
      "Epoch 16: alpha = 0.08\n",
      "Epoch 17: alpha = 0.085\n",
      "Epoch 18: alpha = 0.09\n",
      "Epoch 19: alpha = 0.095\n",
      "Epoch 20: alpha = 0.1\n",
      "Epoch 21: alpha = 0.105\n",
      "Epoch 22: alpha = 0.11\n",
      "Epoch 23: alpha = 0.115\n",
      "Epoch 24: alpha = 0.12\n",
      "Epoch 25: alpha = 0.125\n",
      "Epoch 26: alpha = 0.13\n",
      "Epoch 27: alpha = 0.135\n",
      "Epoch 28: alpha = 0.14\n",
      "Epoch 29: alpha = 0.145\n",
      "Epoch 30: alpha = 0.15\n",
      "Epoch 31: alpha = 0.155\n",
      "Epoch 32: alpha = 0.16\n",
      "Epoch 33: alpha = 0.165\n",
      "Epoch 34: alpha = 0.17\n",
      "Epoch 35: alpha = 0.17500000000000002\n",
      "Epoch 36: alpha = 0.18\n",
      "Epoch 37: alpha = 0.185\n",
      "Epoch 38: alpha = 0.19\n",
      "Epoch 39: alpha = 0.195\n",
      "Epoch 40: alpha = 0.2\n",
      "Epoch 41: alpha = 0.20500000000000002\n",
      "Epoch 42: alpha = 0.21\n",
      "Epoch 43: alpha = 0.215\n",
      "Epoch 44: alpha = 0.22\n",
      "Epoch 45: alpha = 0.225\n",
      "Epoch 46: alpha = 0.23\n",
      "Epoch 47: alpha = 0.23500000000000001\n",
      "Epoch 48: alpha = 0.24\n",
      "Epoch 49: alpha = 0.245\n",
      "Epoch 50: alpha = 0.25\n",
      "Epoch 51: alpha = 0.255\n",
      "Epoch 52: alpha = 0.26\n",
      "Epoch 53: alpha = 0.265\n",
      "Epoch 54: alpha = 0.27\n",
      "Epoch 55: alpha = 0.275\n",
      "Epoch 56: alpha = 0.28\n",
      "Epoch 57: alpha = 0.28500000000000003\n",
      "Epoch 58: alpha = 0.29\n",
      "Epoch 59: alpha = 0.295\n",
      "Epoch 60: alpha = 0.3\n",
      "Epoch 61: alpha = 0.305\n",
      "Epoch 62: alpha = 0.31\n",
      "Epoch 63: alpha = 0.315\n",
      "Epoch 64: alpha = 0.32\n",
      "Epoch 65: alpha = 0.325\n",
      "Epoch 66: alpha = 0.33\n",
      "Epoch 67: alpha = 0.335\n",
      "Epoch 68: alpha = 0.34\n",
      "Epoch 69: alpha = 0.34500000000000003\n",
      "Epoch 70: alpha = 0.35000000000000003\n",
      "Epoch 71: alpha = 0.355\n",
      "Epoch 72: alpha = 0.36\n",
      "Epoch 73: alpha = 0.365\n",
      "Epoch 74: alpha = 0.37\n",
      "Epoch 75: alpha = 0.375\n",
      "Epoch 76: alpha = 0.38\n",
      "Epoch 77: alpha = 0.385\n",
      "Epoch 78: alpha = 0.39\n",
      "Epoch 79: alpha = 0.395\n",
      "Epoch 80: alpha = 0.4\n",
      "Epoch 81: alpha = 0.405\n",
      "Epoch 82: alpha = 0.41000000000000003\n",
      "Epoch 83: alpha = 0.41500000000000004\n",
      "Epoch 84: alpha = 0.42\n",
      "Epoch 85: alpha = 0.425\n",
      "Epoch 86: alpha = 0.43\n",
      "Epoch 87: alpha = 0.435\n",
      "Epoch 88: alpha = 0.44\n",
      "Epoch 89: alpha = 0.445\n",
      "Epoch 90: alpha = 0.45\n",
      "Epoch 91: alpha = 0.455\n",
      "Epoch 92: alpha = 0.46\n",
      "Epoch 93: alpha = 0.465\n",
      "Epoch 94: alpha = 0.47000000000000003\n",
      "Epoch 95: alpha = 0.47500000000000003\n",
      "Epoch 96: alpha = 0.48\n",
      "Epoch 97: alpha = 0.485\n",
      "Epoch 98: alpha = 0.49\n",
      "Epoch 99: alpha = 0.495\n",
      "Epoch 100: alpha = 0.5\n",
      "Epoch 101: alpha = 0.5\n",
      "Epoch 102: alpha = 0.5\n",
      "Epoch 103: alpha = 0.5\n",
      "Epoch 104: alpha = 0.5\n",
      "Epoch 105: alpha = 0.5\n",
      "Epoch 106: alpha = 0.5\n",
      "Epoch 107: alpha = 0.5\n",
      "Epoch 108: alpha = 0.5\n",
      "Epoch 109: alpha = 0.5\n",
      "Epoch 110: alpha = 0.5\n",
      "Epoch 111: alpha = 0.5\n",
      "Epoch 112: alpha = 0.5\n",
      "Epoch 113: alpha = 0.5\n",
      "Epoch 114: alpha = 0.5\n",
      "Epoch 115: alpha = 0.5\n",
      "Epoch 116: alpha = 0.5\n",
      "Epoch 117: alpha = 0.5\n",
      "Epoch 118: alpha = 0.5\n",
      "Epoch 119: alpha = 0.5\n"
     ]
    }
   ],
   "source": [
    "def calculate_alpha(epoch, max_epoch=100, max_alpha=0.5):\n",
    "    if epoch < max_epoch:\n",
    "        return (max_alpha / max_epoch) * epoch\n",
    "    else:\n",
    "        return max_alpha\n",
    "\n",
    "# 示例：打印前 120 个 epoch 的 alpha 值\n",
    "for epoch in range(120):\n",
    "    alpha = calculate_alpha(epoch)\n",
    "    print(f\"Epoch {epoch}: alpha = {alpha}\")\n"
   ]
  },
  {
   "cell_type": "code",
   "execution_count": null,
   "metadata": {},
   "outputs": [],
   "source": []
  }
 ],
 "metadata": {
  "kernelspec": {
   "display_name": "protop",
   "language": "python",
   "name": "python3"
  },
  "language_info": {
   "codemirror_mode": {
    "name": "ipython",
    "version": 3
   },
   "file_extension": ".py",
   "mimetype": "text/x-python",
   "name": "python",
   "nbconvert_exporter": "python",
   "pygments_lexer": "ipython3",
   "version": "3.8.19"
  }
 },
 "nbformat": 4,
 "nbformat_minor": 2
}
